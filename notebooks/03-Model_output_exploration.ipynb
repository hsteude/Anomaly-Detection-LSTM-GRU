{
 "cells": [
  {
   "cell_type": "code",
   "execution_count": null,
   "id": "6720d3f6",
   "metadata": {},
   "outputs": [],
   "source": [
    "# default stuff (display width, dir change, jupyter extentions)\n",
    "from IPython.core.display import display, HTML\n",
    "display(HTML(\"<style>.container { width:100% !important; }</style>\"))\n",
    "import os\n",
    "os.chdir('..')\n",
    "%load_ext autoreload\n",
    "%autoreload 2"
   ]
  },
  {
   "cell_type": "code",
   "execution_count": null,
   "id": "580b0daa",
   "metadata": {},
   "outputs": [],
   "source": [
    "import pandas as pd\n",
    "import anodeclstmgru.constants as const\n",
    "import os\n",
    "from anodeclstmgru.models.lit_module import AutoEncoderLitModule\n",
    "from anodeclstmgru.data.data_module import SWaTSDataModule\n",
    "import yaml\n",
    "from plotly.subplots import make_subplots\n",
    "import plotly.graph_objects as go\n",
    "import plotly.express as px\n",
    "from ipywidgets import interact"
   ]
  },
  {
   "cell_type": "code",
   "execution_count": null,
   "id": "d1c94da8",
   "metadata": {},
   "outputs": [],
   "source": [
    "MODEL_VERSION = 1 \n",
    "hparams_path = f'./lightning_logs/version_{MODEL_VERSION}/hparams.yaml'\n",
    "with open(hparams_path, 'r') as stream:\n",
    "        hparam_dct = yaml.safe_load(stream)\n",
    "ckpt_file_name = os.listdir(f'./lightning_logs/version_{MODEL_VERSION}/checkpoints/')[0]\n",
    "ckpt_file_path = f'./lightning_logs/version_{MODEL_VERSION}/checkpoints/{ckpt_file_name}'"
   ]
  },
  {
   "cell_type": "code",
   "execution_count": null,
   "id": "39c9163a",
   "metadata": {},
   "outputs": [],
   "source": [
    "dm_train = SWaTSDataModule(**hparam_dct)\n",
    "dm_train.setup()\n",
    "train_data_loade = dm_train.train_dataloader()"
   ]
  },
  {
   "cell_type": "code",
   "execution_count": null,
   "id": "6e5ca8f2",
   "metadata": {},
   "outputs": [],
   "source": [
    "batch_in = iter(train_data_loade).next()\n",
    "df_in = pd.DataFrame(batch_in[0,:,:].numpy(), columns=const.SENSOR_COLS)"
   ]
  },
  {
   "cell_type": "code",
   "execution_count": null,
   "id": "c8710b95",
   "metadata": {},
   "outputs": [],
   "source": [
    "model = AutoEncoderLitModule.load_from_checkpoint(ckpt_file_path)"
   ]
  },
  {
   "cell_type": "code",
   "execution_count": null,
   "id": "774053fb",
   "metadata": {},
   "outputs": [],
   "source": [
    "batch_out = model(batch_in)\n",
    "df_out = pd.DataFrame(batch_out[0,:,:].detach().numpy(), columns=const.SENSOR_COLS)"
   ]
  },
  {
   "cell_type": "code",
   "execution_count": null,
   "id": "4787d7f1",
   "metadata": {},
   "outputs": [],
   "source": [
    "df_in.head()"
   ]
  },
  {
   "cell_type": "code",
   "execution_count": null,
   "id": "62269851",
   "metadata": {},
   "outputs": [],
   "source": [
    "df_out.head()"
   ]
  },
  {
   "cell_type": "code",
   "execution_count": null,
   "id": "27cf2298",
   "metadata": {},
   "outputs": [],
   "source": [
    "def plot_ts_and_reconstruction(signal):\n",
    "    fig = make_subplots(rows=1, cols=1, shared_xaxes=True)\n",
    "    for df, key in zip([df_in, df_out], ['orig.', 'reconstr.']):\n",
    "        fig.add_trace(go.Scatter(x=df.index, y=df[signal], name=f'{signal}_{key}'), row=1, col=1)\n",
    "    fig.show()\n",
    "\n",
    "interact(plot_ts_and_reconstruction, signal=const.SENSOR_COLS)"
   ]
  },
  {
   "cell_type": "code",
   "execution_count": null,
   "id": "29f4f6fc",
   "metadata": {},
   "outputs": [],
   "source": [
    "signal = 'LIT101'\n",
    "fig = make_subplots(rows=1, cols=1, shared_xaxes=True)\n",
    "fig.add_trace(go.Scatter(x=dm_train.swats_train.dataset.df.index,\n",
    "                         y=dm_train.swats_train.dataset.df[signal]), row=1, col=1)\n",
    "fig.show()"
   ]
  },
  {
   "cell_type": "code",
   "execution_count": null,
   "id": "58e855f4",
   "metadata": {},
   "outputs": [],
   "source": [
    "hparam_att_dct = hparam_dct.copy()\n",
    "hparam_att_dct.update(dict(normal=False))"
   ]
  },
  {
   "cell_type": "code",
   "execution_count": null,
   "id": "0ba638d1",
   "metadata": {},
   "outputs": [],
   "source": [
    "dm_test = SWaTSDataModule(**hparam_att_dct)\n",
    "dm_test.setup()"
   ]
  },
  {
   "cell_type": "code",
   "execution_count": null,
   "id": "5b41d134",
   "metadata": {},
   "outputs": [],
   "source": [
    "dm_test.swats_train.dataset.df.head()"
   ]
  },
  {
   "cell_type": "code",
   "execution_count": null,
   "id": "008427df",
   "metadata": {},
   "outputs": [],
   "source": [
    "end_idxs = list(range(dm_test.window_size,\n",
    "                 len(dm_test.swats_train.dataset.df),\n",
    "                 dm_test.window_size))\n",
    "timestamps = dm_test.swats_train.dataset.df.loc[end_idxs, 'Timestamp']\n",
    "arrays = []"
   ]
  },
  {
   "cell_type": "code",
   "execution_count": null,
   "id": "c07b3f6a",
   "metadata": {},
   "outputs": [],
   "source": []
  },
  {
   "cell_type": "code",
   "execution_count": null,
   "id": "90276693",
   "metadata": {},
   "outputs": [],
   "source": []
  },
  {
   "cell_type": "code",
   "execution_count": null,
   "id": "22c73fad",
   "metadata": {},
   "outputs": [],
   "source": []
  }
 ],
 "metadata": {
  "kernelspec": {
   "display_name": "Python 3",
   "language": "python",
   "name": "python3"
  },
  "language_info": {
   "codemirror_mode": {
    "name": "ipython",
    "version": 3
   },
   "file_extension": ".py",
   "mimetype": "text/x-python",
   "name": "python",
   "nbconvert_exporter": "python",
   "pygments_lexer": "ipython3",
   "version": "3.8.8"
  }
 },
 "nbformat": 4,
 "nbformat_minor": 5
}
