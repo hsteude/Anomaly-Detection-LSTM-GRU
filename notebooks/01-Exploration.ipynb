{
 "cells": [
  {
   "cell_type": "code",
   "execution_count": null,
   "id": "e1f86965",
   "metadata": {},
   "outputs": [],
   "source": [
    "# default stuff (display width, dir change, jupyter extentions)\n",
    "from IPython.core.display import display, HTML\n",
    "display(HTML(\"<style>.container { width:100% !important; }</style>\"))\n",
    "import os\n",
    "os.chdir('..')\n",
    "%load_ext autoreload\n",
    "%autoreload 2"
   ]
  },
  {
   "cell_type": "code",
   "execution_count": null,
   "id": "9603ce0d",
   "metadata": {},
   "outputs": [],
   "source": [
    "# import stuff\n",
    "import anodeclstmgru.constants as const\n",
    "import pandas as pd\n",
    "import numpy as np\n",
    "from datetime import datetime\n",
    "from pandas_profiling import ProfileReport"
   ]
  },
  {
   "cell_type": "markdown",
   "id": "064ae6b6",
   "metadata": {},
   "source": [
    "# Physical"
   ]
  },
  {
   "cell_type": "code",
   "execution_count": null,
   "id": "0fee5197",
   "metadata": {},
   "outputs": [],
   "source": [
    "# read the excel files and store the into an h5 store\n",
    "# this takes ages...\n",
    "if not os.path.isfile(const.HDF_STORE_PATH_INTERIM):\n",
    "    from anodeclstmgru.data import create_h5_file\n",
    "    create_h5_file.run()"
   ]
  },
  {
   "cell_type": "code",
   "execution_count": null,
   "id": "ab10ce21",
   "metadata": {},
   "outputs": [],
   "source": [
    "# read files from h5 store\n",
    "store = pd.HDFStore(const.HDF_STORE_PATH)\n",
    "df_phys_norm_v0 = store['df_phys_norm_v0']\n",
    "df_phys_norm_v1 = store['df_phys_norm_v1']\n",
    "df_phys_att_v0 = store['df_phys_att_v0']\n",
    "store.close()"
   ]
  },
  {
   "cell_type": "code",
   "execution_count": null,
   "id": "4f5db126",
   "metadata": {},
   "outputs": [],
   "source": [
    "# print heads\n",
    "df_phys_norm_v0.head()"
   ]
  },
  {
   "cell_type": "code",
   "execution_count": null,
   "id": "6d827ba4",
   "metadata": {},
   "outputs": [],
   "source": [
    "df_phys_norm_v1.head()"
   ]
  },
  {
   "cell_type": "code",
   "execution_count": null,
   "id": "0bf97f92",
   "metadata": {},
   "outputs": [],
   "source": [
    "df_phys_att_v0.head()"
   ]
  },
  {
   "cell_type": "markdown",
   "id": "4bc6a261",
   "metadata": {},
   "source": [
    "## What is the difference between those two files?"
   ]
  },
  {
   "cell_type": "markdown",
   "id": "0591fa3b",
   "metadata": {},
   "source": [
    "### Time frames\n",
    "Accoring to the paper, the dataset is supposed to hold 7 days of normal operation... lets see"
   ]
  },
  {
   "cell_type": "code",
   "execution_count": null,
   "id": "996a1f89",
   "metadata": {},
   "outputs": [],
   "source": [
    "for ind, df in enumerate([df_phys_norm_v0, df_phys_norm_v1]):\n",
    "    print(f'Start timestamp v{ind}: {df.Timestamp.min()}')\n",
    "    print(f'End timestamp v{ind}: {df.Timestamp.max()}')"
   ]
  },
  {
   "cell_type": "markdown",
   "id": "2c3c23c4",
   "metadata": {},
   "source": [
    "looks like v0 starts 30 minutes earlier ..."
   ]
  },
  {
   "cell_type": "markdown",
   "id": "71944823",
   "metadata": {},
   "source": [
    "### Schema"
   ]
  },
  {
   "cell_type": "code",
   "execution_count": null,
   "id": "c10a44f1",
   "metadata": {},
   "outputs": [],
   "source": [
    "# are the columns the same? \n",
    "all(df_phys_norm_v0.columns == df_phys_norm_v1.columns)"
   ]
  },
  {
   "cell_type": "code",
   "execution_count": null,
   "id": "a64f52fc",
   "metadata": {},
   "outputs": [],
   "source": [
    "# what are the number of observations?\n",
    "for ind, df in enumerate([df_phys_norm_v0, df_phys_norm_v1]):\n",
    "    print(f'Number of rows v{ind}: {len(df)}')"
   ]
  },
  {
   "cell_type": "markdown",
   "id": "3f4bd1ce",
   "metadata": {},
   "source": [
    "Alright this seems to fit the 30 minutes observation: v0 has 1800 entries more than v1. Looks like the sample rate is 1HZ"
   ]
  },
  {
   "cell_type": "markdown",
   "id": "d0553c83",
   "metadata": {},
   "source": [
    "### Values\n",
    "Lets take a subsample and see if the values are equal"
   ]
  },
  {
   "cell_type": "code",
   "execution_count": null,
   "id": "e035726b",
   "metadata": {},
   "outputs": [],
   "source": [
    "# two timestamps randomly picked\n",
    "min_sample_ts = datetime(2015, 12, 22, 17)\n",
    "max_sample_ts = datetime(2015, 12, 28, 8)"
   ]
  },
  {
   "cell_type": "code",
   "execution_count": null,
   "id": "253fa0bd",
   "metadata": {},
   "outputs": [],
   "source": [
    "condition_v0 = (df_phys_norm_v0.Timestamp > min_sample_ts) &\\\n",
    "    (df_phys_norm_v0.Timestamp < max_sample_ts)\n",
    "condition_v1 = (df_phys_norm_v1.Timestamp > min_sample_ts) &\\\n",
    "    (df_phys_norm_v1.Timestamp < max_sample_ts)\n",
    "df_phys_norm_v0_sample = \\\n",
    "    df_phys_norm_v0[condition_v0].reset_index(drop=True)\n",
    "df_phys_norm_v1_sample = \\\n",
    "    df_phys_norm_v1[condition_v1].reset_index(drop=True)"
   ]
  },
  {
   "cell_type": "code",
   "execution_count": null,
   "id": "67f2ed7d",
   "metadata": {},
   "outputs": [],
   "source": [
    "df_compare = df_phys_norm_v0_sample == df_phys_norm_v1_sample\n",
    "df_compare.head()"
   ]
  },
  {
   "cell_type": "code",
   "execution_count": null,
   "id": "55da8447",
   "metadata": {},
   "outputs": [],
   "source": [
    "np.unique(df_compare.values)"
   ]
  },
  {
   "cell_type": "markdown",
   "id": "58755350",
   "metadata": {},
   "source": [
    "Alright, the values are the same, so lets just pick v1 because they has to be a reason why they created it, maybe the first 30 minutes aren't really normal"
   ]
  },
  {
   "cell_type": "markdown",
   "id": "c2564902",
   "metadata": {},
   "source": [
    "### What is the Frequency?"
   ]
  },
  {
   "cell_type": "code",
   "execution_count": null,
   "id": "9a37e5e1",
   "metadata": {},
   "outputs": [],
   "source": [
    "df_phys_norm_v1.Timestamp.diff()[1:].unique()"
   ]
  },
  {
   "cell_type": "code",
   "execution_count": null,
   "id": "79d817ce",
   "metadata": {},
   "outputs": [],
   "source": [
    "freq = df_phys_norm_v1.Timestamp.diff()[1:].unique()[0]\n",
    "print(f'Frequenzy in 1/HZ: {int(freq/1e9)}')"
   ]
  },
  {
   "cell_type": "markdown",
   "id": "605abc0f",
   "metadata": {},
   "source": [
    "We further know that the data frame is sorted, because the diffs are all positive and unique."
   ]
  },
  {
   "cell_type": "markdown",
   "id": "9ba6f423",
   "metadata": {},
   "source": [
    "### DF Profile? (missing vals, variables et al.)\n",
    "Takes quite a while to run (14 min or so) --> don't do that if you're in a hurry"
   ]
  },
  {
   "cell_type": "code",
   "execution_count": null,
   "id": "94a5de6c",
   "metadata": {},
   "outputs": [],
   "source": [
    "profile = ProfileReport(df_phys_norm_v1, title='Pandas Profiling Report', explorative=True)\n",
    "profile.to_widgets()"
   ]
  },
  {
   "cell_type": "markdown",
   "id": "291fad0f",
   "metadata": {},
   "source": [
    "# Labels"
   ]
  },
  {
   "cell_type": "code",
   "execution_count": null,
   "id": "9b3befe9",
   "metadata": {},
   "outputs": [],
   "source": [
    "df_label = pd.read_excel(const.LABELS_FILE_PATH)\n",
    "df_label"
   ]
  },
  {
   "cell_type": "code",
   "execution_count": null,
   "id": "2b2517c1",
   "metadata": {},
   "outputs": [],
   "source": [
    "df_label.info()"
   ]
  }
 ],
 "metadata": {
  "kernelspec": {
   "display_name": "Python 3",
   "language": "python",
   "name": "python3"
  },
  "language_info": {
   "codemirror_mode": {
    "name": "ipython",
    "version": 3
   },
   "file_extension": ".py",
   "mimetype": "text/x-python",
   "name": "python",
   "nbconvert_exporter": "python",
   "pygments_lexer": "ipython3",
   "version": "3.8.8"
  }
 },
 "nbformat": 4,
 "nbformat_minor": 5
}
