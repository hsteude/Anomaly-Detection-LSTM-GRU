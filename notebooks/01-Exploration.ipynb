{
 "cells": [
  {
   "cell_type": "code",
   "execution_count": null,
   "id": "83fbd56c",
   "metadata": {},
   "outputs": [],
   "source": [
    "import os\n",
    "os.chdir('..')\n",
    "%load_ext autoreload\n",
    "%autoreload 2"
   ]
  },
  {
   "cell_type": "code",
   "execution_count": null,
   "id": "5ab500b6",
   "metadata": {},
   "outputs": [],
   "source": [
    "import src.constants as const\n",
    "import pandas as pd\n",
    "import numpy as np\n",
    "from datetime import datetime"
   ]
  },
  {
   "cell_type": "markdown",
   "id": "45abaa74",
   "metadata": {},
   "source": [
    "# Physical"
   ]
  },
  {
   "cell_type": "code",
   "execution_count": null,
   "id": "e4949c53",
   "metadata": {},
   "outputs": [],
   "source": [
    "# read in normla state files\n",
    "df_phys_norm_v0 = pd.read_excel(const.PHYS_NORMAL_PATHS[0], header=1)\n",
    "df_phys_norm_v1 = pd.read_excel(const.PHYS_NORMAL_PATHS[1], header=1)"
   ]
  },
  {
   "cell_type": "code",
   "execution_count": null,
   "id": "8d716734",
   "metadata": {},
   "outputs": [],
   "source": [
    "df_phys_norm_v0.head()"
   ]
  },
  {
   "cell_type": "code",
   "execution_count": null,
   "id": "831fc6d5",
   "metadata": {},
   "outputs": [],
   "source": [
    "df_phys_norm_v1.head()"
   ]
  },
  {
   "cell_type": "code",
   "execution_count": null,
   "id": "d45ac056",
   "metadata": {},
   "outputs": [],
   "source": [
    "# look quite similar, lets format the timestamps\n",
    "df_phys_norm_v0['Timestamp'] = pd.to_datetime(df_phys_norm_v0[' Timestamp'])\n",
    "df_phys_norm_v1['Timestamp'] = pd.to_datetime(df_phys_norm_v1[' Timestamp'])"
   ]
  },
  {
   "cell_type": "code",
   "execution_count": null,
   "id": "22b88bba",
   "metadata": {},
   "outputs": [],
   "source": [
    "# reading the excel files takes ages, so i'll store the tables as h5\n",
    "store = pd.HDFStore(const.HDF_STORE_PATH)\n",
    "store['df_phys_norm_v0'] = df_phys_norm_v0\n",
    "store['df_phys_norm_v1'] = df_phys_norm_v1"
   ]
  },
  {
   "cell_type": "code",
   "execution_count": null,
   "id": "2a167ecc",
   "metadata": {},
   "outputs": [],
   "source": [
    "#read them in if necessary\n",
    "df_phys_norm_v0 = store['df_phys_norm_v0']\n",
    "df_phys_norm_v1 = store['df_phys_norm_v1']"
   ]
  },
  {
   "cell_type": "markdown",
   "id": "0d787a3f",
   "metadata": {},
   "source": [
    "## What is the difference between those two files?"
   ]
  },
  {
   "cell_type": "markdown",
   "id": "b1b665f1",
   "metadata": {},
   "source": [
    "### Time frames\n",
    "Accoring to the paper, the dataset is supposed to hold 7 days of normal operation... lets see"
   ]
  },
  {
   "cell_type": "code",
   "execution_count": null,
   "id": "e214eb7f",
   "metadata": {},
   "outputs": [],
   "source": [
    "for ind, df in enumerate([df_phys_norm_v0, df_phys_norm_v1]):\n",
    "    print(f'Start timestamp v{ind}: {df.Timestamp.min()}')\n",
    "    print(f'End timestamp v{ind}: {df.Timestamp.max()}')\n",
    "    print(f'Num')"
   ]
  },
  {
   "cell_type": "markdown",
   "id": "2a54db87",
   "metadata": {},
   "source": [
    "looks like v0 starts 30 minutes earlier ..."
   ]
  },
  {
   "cell_type": "markdown",
   "id": "a90f73ab",
   "metadata": {},
   "source": [
    "### Schema"
   ]
  },
  {
   "cell_type": "code",
   "execution_count": null,
   "id": "7cbca2b7",
   "metadata": {},
   "outputs": [],
   "source": [
    "# are the columns the same? \n",
    "all(df_phys_norm_v0.columns == df_phys_norm_v1.columns)"
   ]
  },
  {
   "cell_type": "code",
   "execution_count": null,
   "id": "34dac8d8",
   "metadata": {},
   "outputs": [],
   "source": [
    "# what are the number of observations?\n",
    "for ind, df in enumerate([df_phys_norm_v0, df_phys_norm_v1]):\n",
    "    print(f'Number of rows v{ind}: {len(df)}')"
   ]
  },
  {
   "cell_type": "markdown",
   "id": "edc7b293",
   "metadata": {},
   "source": [
    "Alright this seems to fit the 30 minutes observation: v0 has 1800 entries more than v1. Looks like the sample rate is 1HZ"
   ]
  },
  {
   "cell_type": "markdown",
   "id": "454ee73f",
   "metadata": {},
   "source": [
    "### Values\n",
    "Lets take a subsample and see if the values are equal"
   ]
  },
  {
   "cell_type": "code",
   "execution_count": null,
   "id": "57bb8422",
   "metadata": {},
   "outputs": [],
   "source": [
    "# two timestamps randomly picked\n",
    "min_sample_ts = datetime(2015, 12, 22, 17)\n",
    "max_sample_ts = datetime(2015, 12, 28, 8)"
   ]
  },
  {
   "cell_type": "code",
   "execution_count": null,
   "id": "279563b3",
   "metadata": {},
   "outputs": [],
   "source": [
    "condition_v0 = (df_phys_norm_v0.Timestamp > min_sample_ts) &\\\n",
    "    (df_phys_norm_v0.Timestamp < max_sample_ts)\n",
    "condition_v1 = (df_phys_norm_v1.Timestamp > min_sample_ts) &\\\n",
    "    (df_phys_norm_v1.Timestamp < max_sample_ts)\n",
    "df_phys_norm_v0_sample = \\\n",
    "    df_phys_norm_v0[condition_v0].reset_index(drop=True)\n",
    "df_phys_norm_v1_sample = \\\n",
    "    df_phys_norm_v1[condition_v1].reset_index(drop=True)"
   ]
  },
  {
   "cell_type": "code",
   "execution_count": null,
   "id": "691b9fe4",
   "metadata": {},
   "outputs": [],
   "source": [
    "df_compare = df_phys_norm_v0_sample == df_phys_norm_v1_sample\n",
    "df_compare.head()"
   ]
  },
  {
   "cell_type": "code",
   "execution_count": null,
   "id": "a2c68053",
   "metadata": {},
   "outputs": [],
   "source": [
    "np.unique(df_compare.values)"
   ]
  },
  {
   "cell_type": "markdown",
   "id": "2b568ef0",
   "metadata": {},
   "source": [
    "Alright, the values are the same, so lets just pick v1 because they has to be a reason why they created it, maybe the first 30 minutes aren't really normal"
   ]
  },
  {
   "cell_type": "code",
   "execution_count": null,
   "id": "c926f27e",
   "metadata": {},
   "outputs": [],
   "source": []
  }
 ],
 "metadata": {
  "kernelspec": {
   "display_name": "Python 3",
   "language": "python",
   "name": "python3"
  },
  "language_info": {
   "codemirror_mode": {
    "name": "ipython",
    "version": 3
   },
   "file_extension": ".py",
   "mimetype": "text/x-python",
   "name": "python",
   "nbconvert_exporter": "python",
   "pygments_lexer": "ipython3",
   "version": "3.9.2"
  }
 },
 "nbformat": 4,
 "nbformat_minor": 5
}
