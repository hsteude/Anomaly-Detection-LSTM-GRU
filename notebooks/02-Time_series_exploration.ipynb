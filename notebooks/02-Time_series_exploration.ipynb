{
 "cells": [
  {
   "cell_type": "code",
   "execution_count": null,
   "id": "9c1301da",
   "metadata": {},
   "outputs": [],
   "source": [
    "# default stuff (display width, dir change, jupyter extentions)\n",
    "from IPython.core.display import display, HTML\n",
    "display(HTML(\"<style>.container { width:100% !important; }</style>\"))\n",
    "import os\n",
    "os.chdir('..')\n",
    "%load_ext autoreload\n",
    "%autoreload 2"
   ]
  },
  {
   "cell_type": "code",
   "execution_count": null,
   "id": "6965342f",
   "metadata": {},
   "outputs": [],
   "source": [
    "# import stuff\n",
    "import anodeclstmgru.constants as const\n",
    "import pandas as pd\n",
    "import numpy as np\n",
    "from plotly.subplots import make_subplots\n",
    "import plotly.graph_objects as go\n",
    "import plotly.express as px\n",
    "from ipywidgets import interact\n",
    "from datetime import datetime\n",
    "import matplotlib.pyplot as plt"
   ]
  },
  {
   "cell_type": "code",
   "execution_count": null,
   "id": "0fc1eb15",
   "metadata": {},
   "outputs": [],
   "source": [
    "# load data frames from h5 store\n",
    "store = pd.HDFStore(const.HDF_STORE_PATH_INTERIM)\n",
    "df_phys_norm_v1 = store['df_phys_norm_v1']\n",
    "df_phys_att_v0 = store['df_phys_att_v0']\n",
    "df_labels = store['df_labels']\n",
    "store.close()"
   ]
  },
  {
   "cell_type": "code",
   "execution_count": null,
   "id": "6b1e4819",
   "metadata": {},
   "outputs": [],
   "source": [
    "# create timestamp column and drop old column (notice the white space in the col name)\n",
    "for df in [df_phys_norm_v1, df_phys_att_v0]:\n",
    "    df['Timestamp'] = pd.to_datetime(df[' Timestamp'])\n",
    "    df = df.drop(' Timestamp', axis=1)"
   ]
  },
  {
   "cell_type": "code",
   "execution_count": null,
   "id": "75ad0710",
   "metadata": {},
   "outputs": [],
   "source": [
    "# convert to time series\n",
    "df_phys_norm_v1 = df_phys_norm_v1.set_index('Timestamp', drop=True)\n",
    "df_phys_att_v0 = df_phys_att_v0.set_index('Timestamp', drop=True)\n",
    "df_phys_norm_v1.head()"
   ]
  },
  {
   "cell_type": "code",
   "execution_count": null,
   "id": "fd3b7729",
   "metadata": {},
   "outputs": [],
   "source": [
    "df_labels"
   ]
  },
  {
   "cell_type": "markdown",
   "id": "60dc9ed9",
   "metadata": {},
   "source": [
    "There seams to be a bug in the labels data set. There are entries for jan 2015. For that reason we filter the data frames according to a min and max date in the config file (constants.py)"
   ]
  },
  {
   "cell_type": "code",
   "execution_count": null,
   "id": "e4e4b1f2",
   "metadata": {},
   "outputs": [],
   "source": [
    "# filter labels df to the attack that have a end date attached\n",
    "# transofrm end time to full timestmap\n",
    "df_labels_time = df_labels[df_labels['End Time'].notna()].copy()\n",
    "df_labels_time.loc[:, 'End Time'] = [datetime.combine(datetime.date(a), b) for a,b in zip(\n",
    "    df_labels_time['Start Time'], df_labels_time['End Time'])]\n",
    "df_labels_time = df_labels_time.reset_index(drop=True)"
   ]
  },
  {
   "cell_type": "code",
   "execution_count": null,
   "id": "5a859405",
   "metadata": {},
   "outputs": [],
   "source": [
    "# plot timestamp for attach df\n",
    "plt.plot(df_phys_att_v0.index.values)"
   ]
  },
  {
   "cell_type": "code",
   "execution_count": null,
   "id": "1a2debf5",
   "metadata": {},
   "outputs": [],
   "source": [
    "# plot timestamps of labels\n",
    "plt.plot(df_labels_time['Start Time'].values)"
   ]
  },
  {
   "cell_type": "code",
   "execution_count": null,
   "id": "78a52e22",
   "metadata": {},
   "outputs": [],
   "source": [
    "# ok, lets remove everything smaller than min_date and larger than max date...\n",
    "df_labels_time = df_labels_time[(df_labels_time['Start Time'] > const.MIN_DATE) &\n",
    "                         (df_labels_time['Start Time'] < const.MAX_DATE)]\n",
    "df_phys_att_v0 = df_phys_att_v0[(df_phys_att_v0.index > const.MIN_DATE) &\n",
    "                         (df_phys_att_v0.index < const.MAX_DATE)]"
   ]
  },
  {
   "cell_type": "code",
   "execution_count": null,
   "id": "7acf83a5",
   "metadata": {},
   "outputs": [],
   "source": [
    "# fix column names (some begin with white spaces)\n",
    "df_phys_norm_v1.columns = [s.replace(' ', '') for s in df_phys_norm_v1.columns]\n",
    "df_phys_att_v0.columns = [s.replace(' ', '') for s in df_phys_att_v0.columns]"
   ]
  },
  {
   "cell_type": "code",
   "execution_count": null,
   "id": "071185cc",
   "metadata": {},
   "outputs": [],
   "source": [
    "# define drop down lists (see plots below)\n",
    "day_list_normal = [f'2015-12-{d}' for d in range(22,28)] + ['all']\n",
    "day_list_attack = [f'2015-12-{d}' for d in range(28,31)] + ['2016-01-01'] + \\\n",
    "                  ['2016-02-01'] + ['all']\n",
    "sample_frequency_list = ['1s', '5s', '10s', '60s']\n",
    "sensors = list(set(df_phys_att_v0.columns).union(df_phys_norm_v1.columns))\n",
    "sensors.remove('Normal/Attack')"
   ]
  },
  {
   "cell_type": "code",
   "execution_count": null,
   "id": "53f7e699",
   "metadata": {},
   "outputs": [],
   "source": [
    "# define plot function (single time series)\n",
    "def get_single_time_series(sensor, day='all', sample_freq='60s'):\n",
    "    df_plot = df.copy()\n",
    "    if not day == 'all':\n",
    "        df_plot = df_plot[(df_plot.index > pd.Timestamp(day)) &\n",
    "                         (df_plot.index < pd.Timestamp(day)+pd.Timedelta('1d'))]\n",
    "    df_plot = df_plot.resample(sample_freq).mean()\n",
    "    title = f'{sensor} over time (averaged over {sample_freq})'\n",
    "    fig = px.line(df_plot, x=df_plot.index, y=sensor, title=title)\n",
    "    fig.show()"
   ]
  },
  {
   "cell_type": "code",
   "execution_count": null,
   "id": "7353ee8f",
   "metadata": {},
   "outputs": [],
   "source": [
    "# define plot function (single time series)\n",
    "def get_4_signal_plot(sensor0='AIT503', sensor1='AIT203',\n",
    "                      sensor2='FIT501', sensor3='LIT401', day='all', sample_freq='60s', \n",
    "                     show_attacks=False):\n",
    "    df_plot = df.copy()\n",
    "    df_plot_label = df_labels_time.copy()\n",
    "    if not day == 'all':\n",
    "        df_plot = df_plot[(df_plot.index > pd.Timestamp(day)) &\n",
    "                         (df_plot.index < pd.Timestamp(day)+pd.Timedelta('1d'))]\n",
    "        df_plot_label = df_plot_label[(df_plot_label['Start Time'] > pd.Timestamp(day)) &\n",
    "                         (df_plot_label['Start Time'] < pd.Timestamp(day)+pd.Timedelta('1d'))]\n",
    "    df_plot = df_plot.resample(sample_freq).mean()\n",
    "\n",
    "    \n",
    "    sensor_selection_list=[sensor0, sensor1, sensor2, sensor3]\n",
    "    num_plots = 5 if show_attacks else 4\n",
    "    fig = make_subplots(rows=num_plots, cols=1, shared_xaxes=True)\n",
    "    for i, s in enumerate(sensor_selection_list):\n",
    "        fig.add_trace(\n",
    "            go.Scatter(x=df_plot.index,\n",
    "                       y=df_plot[s], name=s),\n",
    "            row=i+1, col=1,\n",
    "        )\n",
    "    if show_attacks:\n",
    "        for i in range(len(df_plot_label)):\n",
    "            df_plot_label = df_plot_label.reset_index(drop=True)\n",
    "            start = df_plot_label.loc[i, 'Start Time']\n",
    "            end = df_plot_label.loc[i, 'End Time']\n",
    "            attack = df_plot_label.loc[i, 'Attack #']\n",
    "            fig.add_trace(\n",
    "                go.Scatter(x=[start, end],\n",
    "                           y=[1, 1], name=f'Attack #{attack}'),\n",
    "                row=5, col=1,\n",
    "            )\n",
    "\n",
    "    title = f'{sensor0}, {sensor1}, {sensor2} and {sensor3}'\\\n",
    "            f' over time (averaged over {sample_freq})'\n",
    "\n",
    "    fig.update_layout(height=600, width=800, title_text=title)\n",
    "    fig.show()"
   ]
  },
  {
   "cell_type": "markdown",
   "id": "9fa3c1d6",
   "metadata": {},
   "source": [
    "# 4 time series during attack period"
   ]
  },
  {
   "cell_type": "code",
   "execution_count": null,
   "id": "1345bd14",
   "metadata": {},
   "outputs": [],
   "source": [
    "df = df_phys_att_v0.copy()\n",
    "sensors.sort()\n",
    "interact(get_4_signal_plot, sensor0=sensors, sensor1=sensors,\n",
    "         sensor2=sensors, sensor3=sensors, day=day_list_attack,\n",
    "         sample_freq=sample_frequency_list, show_attacks=True)"
   ]
  },
  {
   "cell_type": "markdown",
   "id": "f416aeb2",
   "metadata": {},
   "source": [
    "# 4 time series during normal period"
   ]
  },
  {
   "cell_type": "code",
   "execution_count": null,
   "id": "8929e461",
   "metadata": {},
   "outputs": [],
   "source": [
    "df = df_phys_norm_v1.copy()\n",
    "interact(get_4_signal_plot, sensor0=sensors, sensor1=sensors,\n",
    "         sensor2=sensors, sensor3=sensors, day=day_list_normal,\n",
    "         sample_freq=sample_frequency_list, show_attacks=False)"
   ]
  },
  {
   "cell_type": "markdown",
   "id": "248d6fee",
   "metadata": {},
   "source": [
    "# What is the distribution of attack / anomaly durations?"
   ]
  },
  {
   "cell_type": "code",
   "execution_count": null,
   "id": "3078c420",
   "metadata": {},
   "outputs": [],
   "source": [
    "df_labels_time['duration'] = df_labels_time['End Time'] - df_labels_time['Start Time']"
   ]
  },
  {
   "cell_type": "code",
   "execution_count": null,
   "id": "e9deb362",
   "metadata": {},
   "outputs": [],
   "source": [
    "df_labels_time.duration[0].total_seconds()"
   ]
  },
  {
   "cell_type": "code",
   "execution_count": null,
   "id": "c7ac9a5e",
   "metadata": {},
   "outputs": [],
   "source": [
    "x = np.array([s.total_seconds() for s in df_labels_time.duration])\n",
    "print(f'Minimum: {int(x.min())} s')\n",
    "print(f'Maximum: {int(x.max())} s')\n",
    "print(f'Median: {int(np.median(x))} s')\n",
    "print(f'9% quantile: {int(np.quantile(x, .9))} s')\n",
    "\n",
    "\n",
    "fig = px.histogram(x=x, nbins=400)\n",
    "fig.show()"
   ]
  },
  {
   "cell_type": "markdown",
   "id": "e55dd3f5",
   "metadata": {},
   "source": [
    "# Single time series during attack period"
   ]
  },
  {
   "cell_type": "code",
   "execution_count": null,
   "id": "84a0e588",
   "metadata": {},
   "outputs": [],
   "source": [
    "# df = df_phys_norm_v1.copy()\n",
    "# interact(get_single_time_series, sensor=sensors, day=day_list_normal,\n",
    "#          sample_freq=sample_frequency_list)"
   ]
  },
  {
   "cell_type": "markdown",
   "id": "56515d35",
   "metadata": {},
   "source": [
    "# Single time series during attack period"
   ]
  },
  {
   "cell_type": "code",
   "execution_count": null,
   "id": "3f18668d",
   "metadata": {},
   "outputs": [],
   "source": [
    "# df = df_phys_att_v0.copy()\n",
    "# interact(get_single_time_series, sensor=sensors, day=day_list_attack,\n",
    "#          sample_freq=sample_frequency_list)"
   ]
  }
 ],
 "metadata": {
  "kernelspec": {
   "display_name": "Python 3",
   "language": "python",
   "name": "python3"
  },
  "language_info": {
   "codemirror_mode": {
    "name": "ipython",
    "version": 3
   },
   "file_extension": ".py",
   "mimetype": "text/x-python",
   "name": "python",
   "nbconvert_exporter": "python",
   "pygments_lexer": "ipython3",
   "version": "3.8.8"
  }
 },
 "nbformat": 4,
 "nbformat_minor": 5
}
