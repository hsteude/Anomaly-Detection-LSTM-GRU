{
 "cells": [
  {
   "cell_type": "code",
   "execution_count": null,
   "id": "9c1301da",
   "metadata": {},
   "outputs": [],
   "source": [
    "from IPython.core.display import display, HTML\n",
    "display(HTML(\"<style>.container { width:100% !important; }</style>\"))\n",
    "import os\n",
    "os.chdir('..')\n",
    "%load_ext autoreload\n",
    "%autoreload 2"
   ]
  },
  {
   "cell_type": "code",
   "execution_count": null,
   "id": "6965342f",
   "metadata": {},
   "outputs": [],
   "source": [
    "import anodeclstmgru.constants as const\n",
    "import pandas as pd\n",
    "import numpy as np\n",
    "from plotly.subplots import make_subplots\n",
    "import plotly.graph_objects as go\n",
    "import plotly.express as px\n",
    "from ipywidgets import interact"
   ]
  },
  {
   "cell_type": "code",
   "execution_count": null,
   "id": "0fc1eb15",
   "metadata": {},
   "outputs": [],
   "source": [
    "store = pd.HDFStore(const.HDF_STORE_PATH)\n",
    "df_phys_norm_v1 = store['df_phys_norm_v1']\n",
    "df_phys_att_v0 = store['df_phys_att_v0']\n",
    "store.close()"
   ]
  },
  {
   "cell_type": "code",
   "execution_count": null,
   "id": "75ad0710",
   "metadata": {},
   "outputs": [],
   "source": [
    "df_phys_norm_v1 = df_phys_norm_v1.set_index('Timestamp', drop=True)\n",
    "df_phys_att_v0 = df_phys_att_v0.set_index('Timestamp', drop=True)\n",
    "sensors = df_phys_att_v0.columns\n",
    "day_list_normal = [f'2015-12-{d}' for d in range(22,28)] + ['all']\n",
    "day_list_attack = [f'2015-12-{d}' for d in range(28,31)] + ['2016-01-01'] + \\\n",
    "                  ['2016-02-01'] + ['all']\n",
    "sample_frequency_list = ['1s', '5s', '10s', '60s']\n",
    "df_phys_norm_v1.head()"
   ]
  },
  {
   "cell_type": "code",
   "execution_count": null,
   "id": "53f7e699",
   "metadata": {},
   "outputs": [],
   "source": [
    "def get_single_time_series(sensor, day='all', sample_freq='60s'):\n",
    "    df_plot = df.copy()\n",
    "    if not day == 'all':\n",
    "        df_plot = df_plot[(df_plot.index > pd.Timestamp(day)) &\n",
    "                         (df_plot.index < pd.Timestamp(day)+pd.Timedelta('1d'))]\n",
    "    df_plot = df_plot.resample(sample_freq).mean()\n",
    "    title = f'{sensor} over time (averaged over {sample_freq})'\n",
    "    fig = px.line(df_plot, x=df_plot.index, y=sensor, title=title)\n",
    "    fig.show()"
   ]
  },
  {
   "cell_type": "code",
   "execution_count": null,
   "id": "7353ee8f",
   "metadata": {},
   "outputs": [],
   "source": [
    "def get_4_signal_plot(sensor0='FIT101', sensor1='LIT101',\n",
    "                      sensor2='LIT301', sensor3='LIT401', day='all', sample_freq='60s'):\n",
    "    df_plot = df.copy()\n",
    "    if not day == 'all':\n",
    "        df_plot = df_plot[(df_plot.index > pd.Timestamp(day)) &\n",
    "                         (df_plot.index < pd.Timestamp(day)+pd.Timedelta('1d'))]\n",
    "    df_plot = df_plot.resample(sample_freq).mean()\n",
    "    \n",
    "    sensor_selection_list=[sensor0, sensor1, sensor2, sensor3]\n",
    "    fig = make_subplots(rows=4, cols=1, shared_xaxes=True)\n",
    "    for i, s in enumerate(sensor_selection_list):\n",
    "        fig.add_trace(\n",
    "            go.Scatter(x=df_plot.index,\n",
    "                       y=df_plot[s], name=s),\n",
    "            row=i+1, col=1,\n",
    "        )\n",
    "    title = f'{sensor0}, {sensor1}, {sensor2} and {sensor3}'\\\n",
    "            f' over time (averaged over {sample_freq})'\n",
    "\n",
    "    fig.update_layout(height=600, width=800, title_text=title)\n",
    "    fig.show()"
   ]
  },
  {
   "cell_type": "markdown",
   "id": "e55dd3f5",
   "metadata": {},
   "source": [
    "# Single time series during attack period"
   ]
  },
  {
   "cell_type": "code",
   "execution_count": null,
   "id": "84a0e588",
   "metadata": {},
   "outputs": [],
   "source": [
    "df = df_phys_norm_v1.copy()\n",
    "interact(get_single_time_series, sensor=sensors, day=day_list_normal,\n",
    "         sample_freq=sample_frequency_list)"
   ]
  },
  {
   "cell_type": "markdown",
   "id": "56515d35",
   "metadata": {},
   "source": [
    "# Single time series during attack period"
   ]
  },
  {
   "cell_type": "code",
   "execution_count": null,
   "id": "3f18668d",
   "metadata": {},
   "outputs": [],
   "source": [
    "df = df_phys_att_v0.copy()\n",
    "interact(get_single_time_series, sensor=sensors, day=day_list_attack,\n",
    "         sample_freq=sample_frequency_list)"
   ]
  },
  {
   "cell_type": "markdown",
   "id": "f416aeb2",
   "metadata": {},
   "source": [
    "# 4 time series during normal period"
   ]
  },
  {
   "cell_type": "code",
   "execution_count": null,
   "id": "8929e461",
   "metadata": {},
   "outputs": [],
   "source": [
    "df = df_phys_norm_v1.copy()\n",
    "interact(get_4_signal_plot, sensor0=sensors, sensor1=sensors,\n",
    "         sensor2=sensors, sensor3=sensors, day=day_list_normal,\n",
    "         sample_freq=sample_frequency_list)"
   ]
  },
  {
   "cell_type": "markdown",
   "id": "9fa3c1d6",
   "metadata": {},
   "source": [
    "# 4 time series during attack period"
   ]
  },
  {
   "cell_type": "code",
   "execution_count": null,
   "id": "1345bd14",
   "metadata": {},
   "outputs": [],
   "source": [
    "df = df_phys_att_v0.copy()\n",
    "interact(get_4_signal_plot, sensor0=sensors, sensor1=sensors,\n",
    "         sensor2=sensors, sensor3=sensors, day=day_list_attack,\n",
    "         sample_freq=sample_frequency_list)"
   ]
  },
  {
   "cell_type": "markdown",
   "id": "2bbdc0a0",
   "metadata": {},
   "source": [
    "# Do we really have that gap in the timestamps?"
   ]
  },
  {
   "cell_type": "code",
   "execution_count": null,
   "id": "826bad43",
   "metadata": {},
   "outputs": [],
   "source": [
    "import matplotlib.pyplot as plt\n",
    "plt.plot(df_phys_att_v0.index.values)"
   ]
  },
  {
   "cell_type": "raw",
   "id": "9862ae9c",
   "metadata": {},
   "source": [
    "## T"
   ]
  },
  {
   "cell_type": "code",
   "execution_count": null,
   "id": "e8f79036",
   "metadata": {},
   "outputs": [],
   "source": [
    "cols_norm = list(df_phys_norm_v1.columns)\n",
    "cols_att = list(df_phys_att_v0.columns)"
   ]
  },
  {
   "cell_type": "code",
   "execution_count": null,
   "id": "6c6fd8f8",
   "metadata": {},
   "outputs": [],
   "source": [
    "set.difference(set(cols_nomr), set(cols_att))"
   ]
  },
  {
   "cell_type": "code",
   "execution_count": null,
   "id": "77b51234",
   "metadata": {},
   "outputs": [],
   "source": [
    "pd.DataFrame(dict(norm=sorted(df_phys_norm_v1.columns), att=sorted(df_phys_att_v0.columns)))"
   ]
  },
  {
   "cell_type": "code",
   "execution_count": null,
   "id": "e32682b9",
   "metadata": {},
   "outputs": [],
   "source": []
  }
 ],
 "metadata": {
  "kernelspec": {
   "display_name": "Python 3",
   "language": "python",
   "name": "python3"
  },
  "language_info": {
   "codemirror_mode": {
    "name": "ipython",
    "version": 3
   },
   "file_extension": ".py",
   "mimetype": "text/x-python",
   "name": "python",
   "nbconvert_exporter": "python",
   "pygments_lexer": "ipython3",
   "version": "3.8.8"
  }
 },
 "nbformat": 4,
 "nbformat_minor": 5
}
