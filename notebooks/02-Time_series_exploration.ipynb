{
 "cells": [
  {
   "cell_type": "code",
   "execution_count": null,
   "id": "9c1301da",
   "metadata": {},
   "outputs": [],
   "source": [
    "from IPython.core.display import display, HTML\n",
    "display(HTML(\"<style>.container { width:100% !important; }</style>\"))\n",
    "import os\n",
    "os.chdir('..')\n",
    "%load_ext autoreload\n",
    "%autoreload 2"
   ]
  },
  {
   "cell_type": "code",
   "execution_count": null,
   "id": "6965342f",
   "metadata": {},
   "outputs": [],
   "source": [
    "import anodeclstmgru.constants as const\n",
    "import pandas as pd\n",
    "import numpy as np\n",
    "from plotly.subplots import make_subplots\n",
    "import plotly.graph_objects as go\n",
    "import plotly.express as px\n",
    "from ipywidgets import interact"
   ]
  },
  {
   "cell_type": "code",
   "execution_count": null,
   "id": "0fc1eb15",
   "metadata": {},
   "outputs": [],
   "source": [
    "store = pd.HDFStore(const.HDF_STORE_PATH)\n",
    "df_phys_norm_v1 = store['df_phys_norm_v1']\n",
    "store.close()"
   ]
  },
  {
   "cell_type": "code",
   "execution_count": null,
   "id": "75ad0710",
   "metadata": {},
   "outputs": [],
   "source": [
    "df_phys_norm_v1 = df_phys_norm_v1.set_index('Timestamp', drop=True)\n",
    "df_phys_norm_v1 = df_phys_norm_v1.drop(' Timestamp', axis=1)\n",
    "sensors = df_phys_norm_v1.columns\n",
    "day_list_normal = list(range(22, 29))+['all']\n",
    "df_phys_norm_v1.head()"
   ]
  },
  {
   "cell_type": "code",
   "execution_count": null,
   "id": "53f7e699",
   "metadata": {},
   "outputs": [],
   "source": [
    "def get_single_time_series(sensor, day=28, sample_freq='s'):\n",
    "    df_plot = df_phys_norm_v1.copy()\n",
    "    if not day == 'all':\n",
    "        df_plot = df_plot[(df_plot.index > pd.Timestamp(f'2015-12-{day}')) &\n",
    "                         (df_plot.index < pd.Timestamp(f'2015-12-{day+1}'))]\n",
    "    df_plot = df_plot.resample(sample_freq).mean()\n",
    "    title = f'{sensor} over time (averaged over {sample_freq})'\n",
    "    fig = px.line(df_plot, x=df_plot.index, y=sensor, title=title)\n",
    "    fig.show()\n",
    "interact(get_single_time_series, sensor=sensors, day=day_list_normal,\n",
    "         sample_freq=['1s', '5s', '10s', '60s'])"
   ]
  },
  {
   "cell_type": "code",
   "execution_count": null,
   "id": "7353ee8f",
   "metadata": {},
   "outputs": [],
   "source": [
    "def get_4_signal_plot(sensor0='FIT101', sensor1='LIT101',\n",
    "                      sensor2='LIT301', sensor3='LIT401', day=28, sample_freq='s'):\n",
    "    df_plot = df_phys_norm_v1.copy()\n",
    "    if not day == 'all':\n",
    "        df_plot = df_plot[(df_plot.index > pd.Timestamp(f'2015-12-{day}')) &\n",
    "                         (df_plot.index < pd.Timestamp(f'2015-12-{day+1}'))]\n",
    "    df_plot = df_plot.resample(sample_freq).mean()\n",
    "    \n",
    "    sensor_selection_list=[sensor0, sensor1, sensor2, sensor3]\n",
    "    fig = make_subplots(rows=4, cols=1, shared_xaxes=True)\n",
    "    for i, s in enumerate(sensor_selection_list):\n",
    "        fig.add_trace(\n",
    "            go.Scatter(x=df_plot.index,\n",
    "                       y=df_plot[s], name=s),\n",
    "            row=i+1, col=1,\n",
    "        )\n",
    "    title = f'{sensor0}, {sensor1}, {sensor2} and {sensor3}'\\\n",
    "            f' over time (averaged over {sample_freq})'\n",
    "\n",
    "    fig.update_layout(height=600, width=800, title_text=title)\n",
    "    fig.show()\n",
    "\n",
    "interact(get_4_signal_plot, sensor0=sensors, sensor1=sensors,\n",
    "         sensor2=sensors, sensor3=sensors, day=day_list_normal,\n",
    "         sample_freq=['1s', '5s', '10s', '60s'])"
   ]
  },
  {
   "cell_type": "code",
   "execution_count": null,
   "id": "8929e461",
   "metadata": {},
   "outputs": [],
   "source": [
    "!which python"
   ]
  }
 ],
 "metadata": {
  "kernelspec": {
   "display_name": "Python 3",
   "language": "python",
   "name": "python3"
  },
  "language_info": {
   "codemirror_mode": {
    "name": "ipython",
    "version": 3
   },
   "file_extension": ".py",
   "mimetype": "text/x-python",
   "name": "python",
   "nbconvert_exporter": "python",
   "pygments_lexer": "ipython3",
   "version": "3.8.8"
  }
 },
 "nbformat": 4,
 "nbformat_minor": 5
}
