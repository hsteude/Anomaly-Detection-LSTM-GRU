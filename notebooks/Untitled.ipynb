{
 "cells": [
  {
   "cell_type": "code",
   "execution_count": null,
   "id": "6720d3f6",
   "metadata": {},
   "outputs": [],
   "source": [
    "# default stuff (display width, dir change, jupyter extentions)\n",
    "from IPython.core.display import display, HTML\n",
    "display(HTML(\"<style>.container { width:100% !important; }</style>\"))\n",
    "import os\n",
    "os.chdir('..')\n",
    "%load_ext autoreload\n",
    "%autoreload 2"
   ]
  },
  {
   "cell_type": "code",
   "execution_count": null,
   "id": "580b0daa",
   "metadata": {},
   "outputs": [],
   "source": [
    "import pandas as pd\n",
    "import anodeclstmgru.constants as const"
   ]
  },
  {
   "cell_type": "code",
   "execution_count": null,
   "id": "f7883b48",
   "metadata": {},
   "outputs": [],
   "source": [
    "store = pd.HDFStore(const.HDF_STORE_PATH_PREPROC)\n",
    "df_norm = store['df_norm']\n",
    "df_att = store['df_att']\n",
    "store.close()"
   ]
  },
  {
   "cell_type": "code",
   "execution_count": null,
   "id": "2808b923",
   "metadata": {},
   "outputs": [],
   "source": [
    "import numpy as np\n",
    "x = np.random.randint(0, 100, 100000)\n",
    "import plotly.express as px\n",
    "fig = px.histogram(x=x)\n",
    "fig.show()"
   ]
  },
  {
   "cell_type": "code",
   "execution_count": null,
   "id": "257d2d6a",
   "metadata": {},
   "outputs": [],
   "source": [
    "test = list(df_norm.columns)"
   ]
  },
  {
   "cell_type": "code",
   "execution_count": null,
   "id": "807e7b56",
   "metadata": {},
   "outputs": [],
   "source": [
    "df_att['Normal/Attack'].unique()"
   ]
  },
  {
   "cell_type": "code",
   "execution_count": null,
   "id": "ca89cc26",
   "metadata": {},
   "outputs": [],
   "source": [
    "df_norm.columns == df_att.columns"
   ]
  },
  {
   "cell_type": "code",
   "execution_count": null,
   "id": "27cf2298",
   "metadata": {},
   "outputs": [],
   "source": []
  }
 ],
 "metadata": {
  "kernelspec": {
   "display_name": "Python 3",
   "language": "python",
   "name": "python3"
  },
  "language_info": {
   "codemirror_mode": {
    "name": "ipython",
    "version": 3
   },
   "file_extension": ".py",
   "mimetype": "text/x-python",
   "name": "python",
   "nbconvert_exporter": "python",
   "pygments_lexer": "ipython3",
   "version": "3.8.8"
  }
 },
 "nbformat": 4,
 "nbformat_minor": 5
}
